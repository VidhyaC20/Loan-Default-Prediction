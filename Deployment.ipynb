{
 "cells": [
  {
   "cell_type": "code",
   "execution_count": 1,
   "id": "2e695681-168b-4e05-ba56-543a4b795d37",
   "metadata": {},
   "outputs": [],
   "source": [
    "import pickle"
   ]
  },
  {
   "cell_type": "code",
   "execution_count": 2,
   "id": "6c48d9e1-e7f9-4677-8b8d-9defef450c69",
   "metadata": {},
   "outputs": [],
   "source": [
    "import warnings\n",
    "warnings.filterwarnings(\"ignore\")"
   ]
  },
  {
   "cell_type": "code",
   "execution_count": 5,
   "id": "27dac6e3-3b0d-49c0-8e58-19166cece6c7",
   "metadata": {},
   "outputs": [
    {
     "name": "stdout",
     "output_type": "stream",
     "text": [
      "Prediction: [0]\n"
     ]
    }
   ],
   "source": [
    "# Load the model\n",
    "loaded_model = pickle.load(open(\"model_svm.sav\", 'rb'))\n",
    "\n",
    "# Use the loaded model for prediction\n",
    "result = loaded_model.predict([[67,29180,218027,703,109,1,4.26,60,0.75,3,0,0,1,1,2,1]])\n",
    "print(\"Prediction:\", result)"
   ]
  },
  {
   "cell_type": "code",
   "execution_count": 7,
   "id": "51d04edd-53fc-43e3-b6ba-69e49172de85",
   "metadata": {},
   "outputs": [
    {
     "name": "stdout",
     "output_type": "stream",
     "text": [
      "No Default\n"
     ]
    }
   ],
   "source": [
    "if result== 0:\n",
    "    print(\"No Default\") \n",
    "else:\n",
    "    print(\"Default\")"
   ]
  },
  {
   "cell_type": "code",
   "execution_count": null,
   "id": "3d9e8704-9a03-48d2-9271-6efb790b6c3a",
   "metadata": {},
   "outputs": [],
   "source": []
  }
 ],
 "metadata": {
  "kernelspec": {
   "display_name": "Python 3 (ipykernel)",
   "language": "python",
   "name": "python3"
  },
  "language_info": {
   "codemirror_mode": {
    "name": "ipython",
    "version": 3
   },
   "file_extension": ".py",
   "mimetype": "text/x-python",
   "name": "python",
   "nbconvert_exporter": "python",
   "pygments_lexer": "ipython3",
   "version": "3.10.18"
  }
 },
 "nbformat": 4,
 "nbformat_minor": 5
}
